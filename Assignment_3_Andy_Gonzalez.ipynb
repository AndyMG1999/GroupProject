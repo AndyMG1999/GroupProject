{
  "cells": [
    {
      "cell_type": "markdown",
      "metadata": {
        "id": "view-in-github",
        "colab_type": "text"
      },
      "source": [
        "<a href=\"https://colab.research.google.com/github/AndyMG1999/GroupProject/blob/master/Assignment_3_Andy_Gonzalez.ipynb\" target=\"_parent\"><img src=\"https://colab.research.google.com/assets/colab-badge.svg\" alt=\"Open In Colab\"/></a>"
      ]
    },
    {
      "cell_type": "markdown",
      "metadata": {
        "id": "0VOXFiIOCZku"
      },
      "source": [
        "<a href=\"https://colab.research.google.com/github/grismely/CSC448-AI/blob/main/Assignment%203.ipynb\" target=\"_parent\"><img src=\"https://colab.research.google.com/assets/colab-badge.svg\" alt=\"Open In Colab\"/></a>\n"
      ]
    },
    {
      "cell_type": "code",
      "execution_count": 2,
      "metadata": {
        "id": "uKuWY5cRCZk0"
      },
      "outputs": [],
      "source": [
        "# Imports section\n",
        "import pandas as pd\n",
        "import numpy as np\n",
        "from sklearn.model_selection import train_test_split\n",
        "from sklearn.linear_model import LinearRegression\n",
        "from sklearn.linear_model import BayesianRidge\n",
        "from sklearn.model_selection import cross_val_score\n",
        "from sklearn.preprocessing import PolynomialFeatures as poly\n",
        "from sklearn.model_selection import ShuffleSplit"
      ]
    },
    {
      "cell_type": "markdown",
      "metadata": {
        "id": "5KdomABoCZk4"
      },
      "source": [
        "## Part 1. Loading the dataset"
      ]
    },
    {
      "cell_type": "code",
      "execution_count": 3,
      "metadata": {
        "id": "oQyztGRICZk6",
        "outputId": "2e5c32f1-7465-4e83-de44-70365b2abdc4",
        "colab": {
          "base_uri": "https://localhost:8080/",
          "height": 520
        }
      },
      "outputs": [
        {
          "output_type": "execute_result",
          "data": {
            "text/plain": [
              "    Temperature °C  Mols KCL     Size nm^3\n",
              "0              469       647  6.244743e+05\n",
              "1              403       694  5.779610e+05\n",
              "2              302       975  6.196847e+05\n",
              "3              779       916  1.460449e+06\n",
              "4              901        18  4.325726e+04\n",
              "5              545       637  7.124634e+05\n",
              "6              660       519  7.006960e+05\n",
              "7              143       869  2.718260e+05\n",
              "8               89       461  8.919803e+04\n",
              "9              294       776  4.770210e+05\n",
              "10             991       117  2.441771e+05\n",
              "11             307       781  5.006455e+05\n",
              "12             206        70  3.145200e+04\n",
              "13             437       599  5.390215e+05\n",
              "14             566        75  9.185271e+04"
            ],
            "text/html": [
              "\n",
              "  <div id=\"df-69d3d21f-4c36-477e-b93a-6a9a7b33f07c\">\n",
              "    <div class=\"colab-df-container\">\n",
              "      <div>\n",
              "<style scoped>\n",
              "    .dataframe tbody tr th:only-of-type {\n",
              "        vertical-align: middle;\n",
              "    }\n",
              "\n",
              "    .dataframe tbody tr th {\n",
              "        vertical-align: top;\n",
              "    }\n",
              "\n",
              "    .dataframe thead th {\n",
              "        text-align: right;\n",
              "    }\n",
              "</style>\n",
              "<table border=\"1\" class=\"dataframe\">\n",
              "  <thead>\n",
              "    <tr style=\"text-align: right;\">\n",
              "      <th></th>\n",
              "      <th>Temperature °C</th>\n",
              "      <th>Mols KCL</th>\n",
              "      <th>Size nm^3</th>\n",
              "    </tr>\n",
              "  </thead>\n",
              "  <tbody>\n",
              "    <tr>\n",
              "      <th>0</th>\n",
              "      <td>469</td>\n",
              "      <td>647</td>\n",
              "      <td>6.244743e+05</td>\n",
              "    </tr>\n",
              "    <tr>\n",
              "      <th>1</th>\n",
              "      <td>403</td>\n",
              "      <td>694</td>\n",
              "      <td>5.779610e+05</td>\n",
              "    </tr>\n",
              "    <tr>\n",
              "      <th>2</th>\n",
              "      <td>302</td>\n",
              "      <td>975</td>\n",
              "      <td>6.196847e+05</td>\n",
              "    </tr>\n",
              "    <tr>\n",
              "      <th>3</th>\n",
              "      <td>779</td>\n",
              "      <td>916</td>\n",
              "      <td>1.460449e+06</td>\n",
              "    </tr>\n",
              "    <tr>\n",
              "      <th>4</th>\n",
              "      <td>901</td>\n",
              "      <td>18</td>\n",
              "      <td>4.325726e+04</td>\n",
              "    </tr>\n",
              "    <tr>\n",
              "      <th>5</th>\n",
              "      <td>545</td>\n",
              "      <td>637</td>\n",
              "      <td>7.124634e+05</td>\n",
              "    </tr>\n",
              "    <tr>\n",
              "      <th>6</th>\n",
              "      <td>660</td>\n",
              "      <td>519</td>\n",
              "      <td>7.006960e+05</td>\n",
              "    </tr>\n",
              "    <tr>\n",
              "      <th>7</th>\n",
              "      <td>143</td>\n",
              "      <td>869</td>\n",
              "      <td>2.718260e+05</td>\n",
              "    </tr>\n",
              "    <tr>\n",
              "      <th>8</th>\n",
              "      <td>89</td>\n",
              "      <td>461</td>\n",
              "      <td>8.919803e+04</td>\n",
              "    </tr>\n",
              "    <tr>\n",
              "      <th>9</th>\n",
              "      <td>294</td>\n",
              "      <td>776</td>\n",
              "      <td>4.770210e+05</td>\n",
              "    </tr>\n",
              "    <tr>\n",
              "      <th>10</th>\n",
              "      <td>991</td>\n",
              "      <td>117</td>\n",
              "      <td>2.441771e+05</td>\n",
              "    </tr>\n",
              "    <tr>\n",
              "      <th>11</th>\n",
              "      <td>307</td>\n",
              "      <td>781</td>\n",
              "      <td>5.006455e+05</td>\n",
              "    </tr>\n",
              "    <tr>\n",
              "      <th>12</th>\n",
              "      <td>206</td>\n",
              "      <td>70</td>\n",
              "      <td>3.145200e+04</td>\n",
              "    </tr>\n",
              "    <tr>\n",
              "      <th>13</th>\n",
              "      <td>437</td>\n",
              "      <td>599</td>\n",
              "      <td>5.390215e+05</td>\n",
              "    </tr>\n",
              "    <tr>\n",
              "      <th>14</th>\n",
              "      <td>566</td>\n",
              "      <td>75</td>\n",
              "      <td>9.185271e+04</td>\n",
              "    </tr>\n",
              "  </tbody>\n",
              "</table>\n",
              "</div>\n",
              "      <button class=\"colab-df-convert\" onclick=\"convertToInteractive('df-69d3d21f-4c36-477e-b93a-6a9a7b33f07c')\"\n",
              "              title=\"Convert this dataframe to an interactive table.\"\n",
              "              style=\"display:none;\">\n",
              "        \n",
              "  <svg xmlns=\"http://www.w3.org/2000/svg\" height=\"24px\"viewBox=\"0 0 24 24\"\n",
              "       width=\"24px\">\n",
              "    <path d=\"M0 0h24v24H0V0z\" fill=\"none\"/>\n",
              "    <path d=\"M18.56 5.44l.94 2.06.94-2.06 2.06-.94-2.06-.94-.94-2.06-.94 2.06-2.06.94zm-11 1L8.5 8.5l.94-2.06 2.06-.94-2.06-.94L8.5 2.5l-.94 2.06-2.06.94zm10 10l.94 2.06.94-2.06 2.06-.94-2.06-.94-.94-2.06-.94 2.06-2.06.94z\"/><path d=\"M17.41 7.96l-1.37-1.37c-.4-.4-.92-.59-1.43-.59-.52 0-1.04.2-1.43.59L10.3 9.45l-7.72 7.72c-.78.78-.78 2.05 0 2.83L4 21.41c.39.39.9.59 1.41.59.51 0 1.02-.2 1.41-.59l7.78-7.78 2.81-2.81c.8-.78.8-2.07 0-2.86zM5.41 20L4 18.59l7.72-7.72 1.47 1.35L5.41 20z\"/>\n",
              "  </svg>\n",
              "      </button>\n",
              "      \n",
              "  <style>\n",
              "    .colab-df-container {\n",
              "      display:flex;\n",
              "      flex-wrap:wrap;\n",
              "      gap: 12px;\n",
              "    }\n",
              "\n",
              "    .colab-df-convert {\n",
              "      background-color: #E8F0FE;\n",
              "      border: none;\n",
              "      border-radius: 50%;\n",
              "      cursor: pointer;\n",
              "      display: none;\n",
              "      fill: #1967D2;\n",
              "      height: 32px;\n",
              "      padding: 0 0 0 0;\n",
              "      width: 32px;\n",
              "    }\n",
              "\n",
              "    .colab-df-convert:hover {\n",
              "      background-color: #E2EBFA;\n",
              "      box-shadow: 0px 1px 2px rgba(60, 64, 67, 0.3), 0px 1px 3px 1px rgba(60, 64, 67, 0.15);\n",
              "      fill: #174EA6;\n",
              "    }\n",
              "\n",
              "    [theme=dark] .colab-df-convert {\n",
              "      background-color: #3B4455;\n",
              "      fill: #D2E3FC;\n",
              "    }\n",
              "\n",
              "    [theme=dark] .colab-df-convert:hover {\n",
              "      background-color: #434B5C;\n",
              "      box-shadow: 0px 1px 3px 1px rgba(0, 0, 0, 0.15);\n",
              "      filter: drop-shadow(0px 1px 2px rgba(0, 0, 0, 0.3));\n",
              "      fill: #FFFFFF;\n",
              "    }\n",
              "  </style>\n",
              "\n",
              "      <script>\n",
              "        const buttonEl =\n",
              "          document.querySelector('#df-69d3d21f-4c36-477e-b93a-6a9a7b33f07c button.colab-df-convert');\n",
              "        buttonEl.style.display =\n",
              "          google.colab.kernel.accessAllowed ? 'block' : 'none';\n",
              "\n",
              "        async function convertToInteractive(key) {\n",
              "          const element = document.querySelector('#df-69d3d21f-4c36-477e-b93a-6a9a7b33f07c');\n",
              "          const dataTable =\n",
              "            await google.colab.kernel.invokeFunction('convertToInteractive',\n",
              "                                                     [key], {});\n",
              "          if (!dataTable) return;\n",
              "\n",
              "          const docLinkHtml = 'Like what you see? Visit the ' +\n",
              "            '<a target=\"_blank\" href=https://colab.research.google.com/notebooks/data_table.ipynb>data table notebook</a>'\n",
              "            + ' to learn more about interactive tables.';\n",
              "          element.innerHTML = '';\n",
              "          dataTable['output_type'] = 'display_data';\n",
              "          await google.colab.output.renderOutput(dataTable, element);\n",
              "          const docLink = document.createElement('div');\n",
              "          docLink.innerHTML = docLinkHtml;\n",
              "          element.appendChild(docLink);\n",
              "        }\n",
              "      </script>\n",
              "    </div>\n",
              "  </div>\n",
              "  "
            ]
          },
          "metadata": {},
          "execution_count": 3
        }
      ],
      "source": [
        "# Using pandas load the dataset (load remotely, not locally)\n",
        "dataSet = pd.read_csv(\"https://raw.githubusercontent.com/profmcnich/example_notebook/main/science_data_large.csv\")\n",
        "\n",
        "# Output the first 15 rows of the data\n",
        "dataSet.head(15)\n"
      ]
    },
    {
      "cell_type": "code",
      "execution_count": 4,
      "metadata": {
        "id": "wzJHbuzICZk-",
        "outputId": "1f11d990-115d-4a08-8aa3-52b23dd63861",
        "colab": {
          "base_uri": "https://localhost:8080/",
          "height": 474
        }
      },
      "outputs": [
        {
          "output_type": "stream",
          "name": "stdout",
          "text": [
            "<class 'pandas.core.frame.DataFrame'>\n",
            "RangeIndex: 1000 entries, 0 to 999\n",
            "Data columns (total 3 columns):\n",
            " #   Column          Non-Null Count  Dtype  \n",
            "---  ------          --------------  -----  \n",
            " 0   Temperature °C  1000 non-null   int64  \n",
            " 1   Mols KCL        1000 non-null   int64  \n",
            " 2   Size nm^3       1000 non-null   float64\n",
            "dtypes: float64(1), int64(2)\n",
            "memory usage: 23.6 KB\n"
          ]
        },
        {
          "output_type": "execute_result",
          "data": {
            "text/plain": [
              "       Temperature °C     Mols KCL     Size nm^3\n",
              "count     1000.000000  1000.000000  1.000000e+03\n",
              "mean       500.500000   471.530000  5.086111e+05\n",
              "std        288.819436   288.482872  4.474838e+05\n",
              "min          1.000000     1.000000  1.611429e+01\n",
              "25%        250.750000   226.750000  1.298267e+05\n",
              "50%        500.500000   459.500000  3.827182e+05\n",
              "75%        750.250000   710.250000  7.603211e+05\n",
              "max       1000.000000  1000.000000  1.972127e+06"
            ],
            "text/html": [
              "\n",
              "  <div id=\"df-6153b948-8a54-487a-8d6c-d2e49157c0ad\">\n",
              "    <div class=\"colab-df-container\">\n",
              "      <div>\n",
              "<style scoped>\n",
              "    .dataframe tbody tr th:only-of-type {\n",
              "        vertical-align: middle;\n",
              "    }\n",
              "\n",
              "    .dataframe tbody tr th {\n",
              "        vertical-align: top;\n",
              "    }\n",
              "\n",
              "    .dataframe thead th {\n",
              "        text-align: right;\n",
              "    }\n",
              "</style>\n",
              "<table border=\"1\" class=\"dataframe\">\n",
              "  <thead>\n",
              "    <tr style=\"text-align: right;\">\n",
              "      <th></th>\n",
              "      <th>Temperature °C</th>\n",
              "      <th>Mols KCL</th>\n",
              "      <th>Size nm^3</th>\n",
              "    </tr>\n",
              "  </thead>\n",
              "  <tbody>\n",
              "    <tr>\n",
              "      <th>count</th>\n",
              "      <td>1000.000000</td>\n",
              "      <td>1000.000000</td>\n",
              "      <td>1.000000e+03</td>\n",
              "    </tr>\n",
              "    <tr>\n",
              "      <th>mean</th>\n",
              "      <td>500.500000</td>\n",
              "      <td>471.530000</td>\n",
              "      <td>5.086111e+05</td>\n",
              "    </tr>\n",
              "    <tr>\n",
              "      <th>std</th>\n",
              "      <td>288.819436</td>\n",
              "      <td>288.482872</td>\n",
              "      <td>4.474838e+05</td>\n",
              "    </tr>\n",
              "    <tr>\n",
              "      <th>min</th>\n",
              "      <td>1.000000</td>\n",
              "      <td>1.000000</td>\n",
              "      <td>1.611429e+01</td>\n",
              "    </tr>\n",
              "    <tr>\n",
              "      <th>25%</th>\n",
              "      <td>250.750000</td>\n",
              "      <td>226.750000</td>\n",
              "      <td>1.298267e+05</td>\n",
              "    </tr>\n",
              "    <tr>\n",
              "      <th>50%</th>\n",
              "      <td>500.500000</td>\n",
              "      <td>459.500000</td>\n",
              "      <td>3.827182e+05</td>\n",
              "    </tr>\n",
              "    <tr>\n",
              "      <th>75%</th>\n",
              "      <td>750.250000</td>\n",
              "      <td>710.250000</td>\n",
              "      <td>7.603211e+05</td>\n",
              "    </tr>\n",
              "    <tr>\n",
              "      <th>max</th>\n",
              "      <td>1000.000000</td>\n",
              "      <td>1000.000000</td>\n",
              "      <td>1.972127e+06</td>\n",
              "    </tr>\n",
              "  </tbody>\n",
              "</table>\n",
              "</div>\n",
              "      <button class=\"colab-df-convert\" onclick=\"convertToInteractive('df-6153b948-8a54-487a-8d6c-d2e49157c0ad')\"\n",
              "              title=\"Convert this dataframe to an interactive table.\"\n",
              "              style=\"display:none;\">\n",
              "        \n",
              "  <svg xmlns=\"http://www.w3.org/2000/svg\" height=\"24px\"viewBox=\"0 0 24 24\"\n",
              "       width=\"24px\">\n",
              "    <path d=\"M0 0h24v24H0V0z\" fill=\"none\"/>\n",
              "    <path d=\"M18.56 5.44l.94 2.06.94-2.06 2.06-.94-2.06-.94-.94-2.06-.94 2.06-2.06.94zm-11 1L8.5 8.5l.94-2.06 2.06-.94-2.06-.94L8.5 2.5l-.94 2.06-2.06.94zm10 10l.94 2.06.94-2.06 2.06-.94-2.06-.94-.94-2.06-.94 2.06-2.06.94z\"/><path d=\"M17.41 7.96l-1.37-1.37c-.4-.4-.92-.59-1.43-.59-.52 0-1.04.2-1.43.59L10.3 9.45l-7.72 7.72c-.78.78-.78 2.05 0 2.83L4 21.41c.39.39.9.59 1.41.59.51 0 1.02-.2 1.41-.59l7.78-7.78 2.81-2.81c.8-.78.8-2.07 0-2.86zM5.41 20L4 18.59l7.72-7.72 1.47 1.35L5.41 20z\"/>\n",
              "  </svg>\n",
              "      </button>\n",
              "      \n",
              "  <style>\n",
              "    .colab-df-container {\n",
              "      display:flex;\n",
              "      flex-wrap:wrap;\n",
              "      gap: 12px;\n",
              "    }\n",
              "\n",
              "    .colab-df-convert {\n",
              "      background-color: #E8F0FE;\n",
              "      border: none;\n",
              "      border-radius: 50%;\n",
              "      cursor: pointer;\n",
              "      display: none;\n",
              "      fill: #1967D2;\n",
              "      height: 32px;\n",
              "      padding: 0 0 0 0;\n",
              "      width: 32px;\n",
              "    }\n",
              "\n",
              "    .colab-df-convert:hover {\n",
              "      background-color: #E2EBFA;\n",
              "      box-shadow: 0px 1px 2px rgba(60, 64, 67, 0.3), 0px 1px 3px 1px rgba(60, 64, 67, 0.15);\n",
              "      fill: #174EA6;\n",
              "    }\n",
              "\n",
              "    [theme=dark] .colab-df-convert {\n",
              "      background-color: #3B4455;\n",
              "      fill: #D2E3FC;\n",
              "    }\n",
              "\n",
              "    [theme=dark] .colab-df-convert:hover {\n",
              "      background-color: #434B5C;\n",
              "      box-shadow: 0px 1px 3px 1px rgba(0, 0, 0, 0.15);\n",
              "      filter: drop-shadow(0px 1px 2px rgba(0, 0, 0, 0.3));\n",
              "      fill: #FFFFFF;\n",
              "    }\n",
              "  </style>\n",
              "\n",
              "      <script>\n",
              "        const buttonEl =\n",
              "          document.querySelector('#df-6153b948-8a54-487a-8d6c-d2e49157c0ad button.colab-df-convert');\n",
              "        buttonEl.style.display =\n",
              "          google.colab.kernel.accessAllowed ? 'block' : 'none';\n",
              "\n",
              "        async function convertToInteractive(key) {\n",
              "          const element = document.querySelector('#df-6153b948-8a54-487a-8d6c-d2e49157c0ad');\n",
              "          const dataTable =\n",
              "            await google.colab.kernel.invokeFunction('convertToInteractive',\n",
              "                                                     [key], {});\n",
              "          if (!dataTable) return;\n",
              "\n",
              "          const docLinkHtml = 'Like what you see? Visit the ' +\n",
              "            '<a target=\"_blank\" href=https://colab.research.google.com/notebooks/data_table.ipynb>data table notebook</a>'\n",
              "            + ' to learn more about interactive tables.';\n",
              "          element.innerHTML = '';\n",
              "          dataTable['output_type'] = 'display_data';\n",
              "          await google.colab.output.renderOutput(dataTable, element);\n",
              "          const docLink = document.createElement('div');\n",
              "          docLink.innerHTML = docLinkHtml;\n",
              "          element.appendChild(docLink);\n",
              "        }\n",
              "      </script>\n",
              "    </div>\n",
              "  </div>\n",
              "  "
            ]
          },
          "metadata": {},
          "execution_count": 4
        }
      ],
      "source": [
        "# Display a summary of the table information (number of datapoints, etc.)\n",
        "dataSet.info()\n",
        "dataSet.describe()"
      ]
    },
    {
      "cell_type": "markdown",
      "metadata": {
        "id": "JgOLaVMGCZk_"
      },
      "source": [
        "## Part 2. Splitting the dataset"
      ]
    },
    {
      "cell_type": "code",
      "execution_count": 5,
      "metadata": {
        "id": "tPQBeY8XCZlA",
        "outputId": "ed40f99d-9e3a-45b1-fb27-63f49db351c5",
        "colab": {
          "base_uri": "https://localhost:8080/"
        }
      },
      "outputs": [
        {
          "output_type": "execute_result",
          "data": {
            "text/plain": [
              "(     Temperature °C  Mols KCL\n",
              " 858             207       550\n",
              " 694             676       801\n",
              " 896             161       622\n",
              " 63              580       817\n",
              " 831              19        67\n",
              " ..              ...       ...\n",
              " 715             576       970\n",
              " 254             729       210\n",
              " 168              37       157\n",
              " 383             123       882\n",
              " 989             119       510\n",
              " \n",
              " [900 rows x 2 columns],      Temperature °C  Mols KCL\n",
              " 784             798       609\n",
              " 312             760       622\n",
              " 796             838       676\n",
              " 333             384       168\n",
              " 245             478       511\n",
              " ..              ...       ...\n",
              " 597             470       350\n",
              " 852             342       643\n",
              " 949              15        47\n",
              " 974             730        72\n",
              " 786             146       910\n",
              " \n",
              " [100 rows x 2 columns],         Size nm^3\n",
              " 858  2.388269e+05\n",
              " 694  1.109395e+06\n",
              " 896  2.132698e+05\n",
              " 63   9.737511e+05\n",
              " 831  2.902257e+03\n",
              " ..            ...\n",
              " 715  1.151235e+06\n",
              " 254  3.161880e+05\n",
              " 168  1.276626e+04\n",
              " 383  2.406744e+05\n",
              " 989  1.302394e+05\n",
              " \n",
              " [900 rows x 1 columns],         Size nm^3\n",
              " 784  9.921366e+05\n",
              " 312  9.656138e+05\n",
              " 796  1.156088e+06\n",
              " 333  1.344384e+05\n",
              " 245  5.017126e+05\n",
              " ..            ...\n",
              " 597  3.381400e+05\n",
              " 852  4.557288e+05\n",
              " 949  1.653114e+03\n",
              " 974  1.140281e+05\n",
              " 786  2.911320e+05\n",
              " \n",
              " [100 rows x 1 columns])"
            ]
          },
          "metadata": {},
          "execution_count": 5
        }
      ],
      "source": [
        "# Take the pandas dataset and split it into our features (X) and label (y)\n",
        "features = dataSet[[\"Temperature °C\",\"Mols KCL\"]]\n",
        "label = dataSet[[\"Size nm^3\"]]\n",
        "x, y = features, label\n",
        "\n",
        "# Use sklearn to split the features and labels into a training/test set. (90% train, 10% test)\n",
        "x_train,x_test,y_train,y_test = train_test_split(x,y,test_size=.10)\n",
        "x_train, x_test, y_train, y_test"
      ]
    },
    {
      "cell_type": "markdown",
      "metadata": {
        "id": "r0ARiEVJCZlc"
      },
      "source": [
        "## Part 3. Perform a Linear Regression"
      ]
    },
    {
      "cell_type": "code",
      "execution_count": 6,
      "metadata": {
        "id": "sPyxi_4mCZld",
        "outputId": "a57ab528-9e11-400c-8f83-552d5ae6a4e9",
        "colab": {
          "base_uri": "https://localhost:8080/"
        }
      },
      "outputs": [
        {
          "output_type": "stream",
          "name": "stdout",
          "text": [
            "Prediction:  [[665131.53306854]]\n",
            "Score:  0.8207466917159134\n"
          ]
        },
        {
          "output_type": "stream",
          "name": "stderr",
          "text": [
            "/usr/local/lib/python3.7/dist-packages/sklearn/base.py:451: UserWarning: X does not have valid feature names, but LinearRegression was fitted with feature names\n",
            "  \"X does not have valid feature names, but\"\n"
          ]
        }
      ],
      "source": [
        "# Use sklearn to train a model on the training set\n",
        "lin_reg = LinearRegression()\n",
        "lin_reg.fit(x_train,y_train)\n",
        "\n",
        "# Create a sample datapoint and predict the output of that sample with the trained model\n",
        "Prediction = lin_reg.predict(np.array([[469,647]]))\n",
        "print(\"Prediction: \", Prediction)\n",
        "\n",
        "# Report on the score for that model, in your own words (markdown, not code) explain what the score means\n",
        "print(\"Score: \", lin_reg.score(x_test,y_test))\n"
      ]
    },
    {
      "cell_type": "markdown",
      "metadata": {
        "id": "SCzO0dTiCZlf"
      },
      "source": [
        "This score allows us to assess how accurate the data is, and where our data compares to to best regression."
      ]
    },
    {
      "cell_type": "markdown",
      "metadata": {
        "id": "tUHcQfx0CZlg"
      },
      "source": [
        "Sample equation: $E = mc^2$"
      ]
    },
    {
      "cell_type": "code",
      "execution_count": 7,
      "metadata": {
        "id": "zHvIDO21CZlh",
        "outputId": "a739df0c-3e69-48bc-fb43-03b283a1cc92",
        "colab": {
          "base_uri": "https://localhost:8080/"
        }
      },
      "outputs": [
        {
          "output_type": "stream",
          "name": "stdout",
          "text": [
            "Coeficients:  [[ 882.08514161 1039.9029539 ]]\n",
            "Intercept:  [-421383.60952049]\n"
          ]
        }
      ],
      "source": [
        "# Extract the coefficents and intercept from the model and write an equation for your h(x) using LaTeX\n",
        "print(\"Coeficients: \",lin_reg.coef_)\n",
        "print(\"Intercept: \",lin_reg.intercept_)"
      ]
    },
    {
      "cell_type": "markdown",
      "metadata": {
        "id": "6Ng-d9K9CZlj"
      },
      "source": [
        "\\[y = 876.18439002x_1 + 1029.04320478x_2 - 413836.9072213\\]"
      ]
    },
    {
      "cell_type": "markdown",
      "metadata": {
        "id": "Om9pPdA-CZlj"
      },
      "source": [
        "## Part 4. Use Cross Validation"
      ]
    },
    {
      "cell_type": "code",
      "execution_count": 13,
      "metadata": {
        "id": "2uaRKhusCZlk",
        "outputId": "1f11c32b-2b7f-4621-945f-368be9eb5e04",
        "colab": {
          "base_uri": "https://localhost:8080/"
        }
      },
      "outputs": [
        {
          "output_type": "stream",
          "name": "stdout",
          "text": [
            "[0.87616468 0.86951566 0.83708494 0.86963943 0.84945355 0.86236913\n",
            " 0.82467112 0.85236386 0.8648058  0.76555589]\n"
          ]
        }
      ],
      "source": [
        "# Use the cross_val_score function to repeat your experiment across many shuffles of the data\n",
        "cvs = ShuffleSplit(n_splits = 10, test_size = 0.1, random_state = 0)\n",
        "scores = cross_val_score(lin_reg, x, y, cv = cvs)\n",
        "print(scores)\n",
        "\n",
        "# Report on their finding and their significance"
      ]
    },
    {
      "cell_type": "markdown",
      "metadata": {
        "id": "_7ivxc7GCZlm"
      },
      "source": [
        "These score are used assessment of our data. Repeating the experiment 10 times we see that the scores are around the 80% range. As a whole, all 10 of these experiments show that the experiment could be more accurate."
      ]
    },
    {
      "cell_type": "markdown",
      "metadata": {
        "id": "8KolQdy_CZln"
      },
      "source": [
        "## Part 5. Using Polynomial Regression"
      ]
    },
    {
      "cell_type": "code",
      "execution_count": 9,
      "metadata": {
        "id": "bSnv9Df-CZlp",
        "outputId": "a1193d0b-e70c-4ba9-9e04-4d33d0f0e282",
        "colab": {
          "base_uri": "https://localhost:8080/"
        }
      },
      "outputs": [
        {
          "output_type": "stream",
          "name": "stdout",
          "text": [
            "Score: 1.0\n",
            "Predict: [[9.92136600e+05]\n",
            " [9.65613829e+05]\n",
            " [1.15608846e+06]\n",
            " [1.34438400e+05]\n",
            " [5.01712600e+05]\n",
            " [1.15613257e+05]\n",
            " [2.32828590e+02]\n",
            " [1.23143271e+06]\n",
            " [5.07560114e+05]\n",
            " [5.37425257e+05]\n",
            " [1.47318743e+06]\n",
            " [2.31584257e+05]\n",
            " [5.47625257e+05]\n",
            " [4.87152257e+05]\n",
            " [7.42452257e+05]\n",
            " [9.81716600e+05]\n",
            " [1.51751143e+04]\n",
            " [6.36024000e+04]\n",
            " [5.39021457e+05]\n",
            " [1.07916029e+05]\n",
            " [5.34515457e+05]\n",
            " [4.40629714e+05]\n",
            " [3.78242857e+05]\n",
            " [2.54504257e+05]\n",
            " [3.68407143e+04]\n",
            " [2.40833829e+05]\n",
            " [4.12283314e+05]\n",
            " [1.29173829e+05]\n",
            " [1.17146846e+06]\n",
            " [2.41161257e+05]\n",
            " [1.12012572e+04]\n",
            " [5.56872257e+05]\n",
            " [1.90750029e+05]\n",
            " [5.02017029e+05]\n",
            " [2.24347114e+05]\n",
            " [1.02610903e+06]\n",
            " [5.47488114e+05]\n",
            " [8.68430829e+05]\n",
            " [2.84117829e+05]\n",
            " [9.14373114e+05]\n",
            " [6.80136829e+05]\n",
            " [1.16391429e+05]\n",
            " [2.67914286e+04]\n",
            " [1.77937829e+05]\n",
            " [9.57954571e+04]\n",
            " [1.22953257e+05]\n",
            " [3.81819429e+05]\n",
            " [7.23400314e+05]\n",
            " [5.09602859e+03]\n",
            " [1.28727260e+06]\n",
            " [7.38529714e+05]\n",
            " [2.39246314e+05]\n",
            " [5.58759857e+05]\n",
            " [1.21469714e+05]\n",
            " [1.07736803e+06]\n",
            " [9.20531314e+05]\n",
            " [1.37193257e+05]\n",
            " [5.54582859e+03]\n",
            " [4.52397600e+05]\n",
            " [4.78631429e+03]\n",
            " [3.95666857e+05]\n",
            " [8.07512429e+05]\n",
            " [1.48665911e+06]\n",
            " [5.29296257e+05]\n",
            " [1.40516460e+06]\n",
            " [1.30431429e+05]\n",
            " [7.04621829e+05]\n",
            " [1.28284457e+05]\n",
            " [8.69366857e+05]\n",
            " [2.70368000e+05]\n",
            " [4.15563429e+05]\n",
            " [4.99507457e+05]\n",
            " [6.16659457e+05]\n",
            " [2.63337829e+05]\n",
            " [1.19554571e+04]\n",
            " [6.09299314e+05]\n",
            " [6.25714857e+05]\n",
            " [4.41286600e+05]\n",
            " [3.44567429e+05]\n",
            " [1.93788286e+04]\n",
            " [6.34284314e+05]\n",
            " [3.42303143e+04]\n",
            " [6.25307314e+05]\n",
            " [4.17030029e+05]\n",
            " [6.32188314e+05]\n",
            " [9.44423143e+04]\n",
            " [2.51469829e+05]\n",
            " [1.46083211e+06]\n",
            " [1.13658643e+06]\n",
            " [6.16457029e+05]\n",
            " [9.85604457e+05]\n",
            " [2.36956114e+05]\n",
            " [4.32204572e+04]\n",
            " [1.08489300e+06]\n",
            " [1.07822443e+06]\n",
            " [3.38140000e+05]\n",
            " [4.55728829e+05]\n",
            " [1.65311430e+03]\n",
            " [1.14028114e+05]\n",
            " [2.91132000e+05]]\n",
            "Coefficients: [[ 0.00000000e+00  1.20000000e+01 -1.34476712e-07 -1.10844667e-12\n",
            "   2.00000000e+00  2.85714287e-02]]\n",
            "Intercept: [1.98458438e-05]\n"
          ]
        }
      ],
      "source": [
        "# Using the PolynomialFeatures library perform another regression on an augmented dataset of degree 2\n",
        "poly = poly(2)\n",
        "x_train = poly.fit_transform(x_train)\n",
        "x_test = poly.fit_transform(x_test)\n",
        "model = LinearRegression()\n",
        "model.fit(x_train,y_train)\n",
        "\n",
        "# Report on the metrics and output the resultant equation as you did in Part 3.\n",
        "print(f\"Score: {model.score(x_train,y_train)}\")\n",
        "print(f\"Predict: {model.predict(x_test)}\")\n",
        "print(f\"Coefficients: {model.coef_}\")\n",
        "print(f\"Intercept: {model.intercept_}\")"
      ]
    },
    {
      "cell_type": "markdown",
      "metadata": {
        "id": "YFr7QIjBCZlq"
      },
      "source": [
        "y = 1 + 1.20000000e+01 - 1.43771160e-07 - (1.16262555e-11)^2 + 2.00000000e+00 + (2.85714287e-02)^2 + 2.05196557e-05"
      ]
    }
  ],
  "metadata": {
    "kernelspec": {
      "display_name": "Python 3",
      "language": "python",
      "name": "python3"
    },
    "language_info": {
      "codemirror_mode": {
        "name": "ipython",
        "version": 3
      },
      "file_extension": ".py",
      "mimetype": "text/x-python",
      "name": "python",
      "nbconvert_exporter": "python",
      "pygments_lexer": "ipython3",
      "version": "3.8.8"
    },
    "colab": {
      "name": "Assignment 3 - Andy Gonzalez.ipynb",
      "provenance": [],
      "include_colab_link": true
    }
  },
  "nbformat": 4,
  "nbformat_minor": 0
}